{
  "cells": [
    {
      "metadata": {
        "trusted": true
      },
      "cell_type": "code",
      "source": "print(\"  __________\")\nprint(\"  \\        /\")\nprint(\"   \\ n  n /\")\nprint(\"    \\  | /\")\nprint(\"     \\\\\\//\")\nprint(\"      \\/\")",
      "execution_count": 7,
      "outputs": [
        {
          "output_type": "stream",
          "text": "  __________\n  \\        /\n   \\ n  n /\n    \\  | /\n     \\\\//\n      \\/\n",
          "name": "stdout"
        }
      ]
    }
  ],
  "metadata": {
    "kernelspec": {
      "name": "python3",
      "display_name": "Python 3",
      "language": "python"
    },
    "language_info": {
      "mimetype": "text/x-python",
      "nbconvert_exporter": "python",
      "name": "python",
      "pygments_lexer": "ipython3",
      "version": "3.5.4",
      "file_extension": ".py",
      "codemirror_mode": {
        "version": 3,
        "name": "ipython"
      }
    }
  },
  "nbformat": 4,
  "nbformat_minor": 1
}