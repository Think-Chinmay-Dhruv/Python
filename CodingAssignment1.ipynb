{
  "cells": [
    {
      "metadata": {
        "trusted": true
      },
      "cell_type": "code",
      "source": "input_test = input(\"What food have you had in the last day?\")\nprint(\"It is\",\"dairy\".lower() in input_test.lower(),\"that dairy is contained in your food in the last 24 hours.\")\nprint(\"It is\",\"nuts\".lower() in input_test.lower(),\"that nuts are contained in your food in the last 24 hours.\")\nprint(\"It is\",\"Seafood\".lower() in input_test.lower(),\"that seafood is contained in your food in the last 24 hours.\")\nprint(\"It is\",\"chocolate\".lower() in input_test.lower(),\"that chocolate is contained in your food in the last 24 hours.\")",
      "execution_count": 8,
      "outputs": [
        {
          "output_type": "stream",
          "name": "stdout",
          "text": "What food have you had in the last day?ergi\nIt is False that dairy is contained in your food in the last 24 hours.\nIt is False that nuts are contained in your food in the last 24 hours.\nIt is False that seafood is contained in your food in the last 24 hours.\nIt is False that chocolate is contained in your food in the last 24 hours.\n"
        }
      ]
    }
  ],
  "metadata": {
    "kernelspec": {
      "name": "python3",
      "display_name": "Python 3",
      "language": "python"
    }
  },
  "nbformat": 4,
  "nbformat_minor": 1
}