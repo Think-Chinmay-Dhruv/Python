{
  "cells": [
    {
      "metadata": {
        "trusted": true,
        "scrolled": false
      },
      "cell_type": "code",
      "source": "print(\"What is your name?\")\nname = input()",
      "execution_count": 14,
      "outputs": [
        {
          "output_type": "stream",
          "text": "What is your name?\nSrikanth\n",
          "name": "stdout"
        }
      ]
    },
    {
      "metadata": {
        "trusted": true,
        "scrolled": true
      },
      "cell_type": "code",
      "source": "print(\"Is your name \" + name + \"?\")\nnameYes = input()",
      "execution_count": 15,
      "outputs": [
        {
          "output_type": "stream",
          "text": "Is your name Srikanth?\nYes\n",
          "name": "stdout"
        }
      ]
    },
    {
      "metadata": {
        "trusted": true
      },
      "cell_type": "code",
      "source": "if nameYes == \"Yes\":\n    print(\"Hello \" + name)\nelse:\n        print(\"Error; please restart\")",
      "execution_count": 17,
      "outputs": [
        {
          "output_type": "stream",
          "text": "Hello Srikanth\n",
          "name": "stdout"
        }
      ]
    }
  ],
  "metadata": {
    "kernelspec": {
      "name": "python3",
      "display_name": "Python 3",
      "language": "python"
    }
  },
  "nbformat": 4,
  "nbformat_minor": 1
}