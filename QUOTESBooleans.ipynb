{
  "cells": [
    {
      "metadata": {
        "trusted": true,
        "scrolled": false
      },
      "cell_type": "code",
      "source": "einstein = 'Einstein said \"E = Mc^2\".'\n\nprint(einstein)\n\"Einsteinsmellsbad\".isalnum()",
      "execution_count": 182,
      "outputs": [
        {
          "output_type": "stream",
          "text": "Einstein said \"E = Mc^2\".\n",
          "name": "stdout"
        },
        {
          "output_type": "execute_result",
          "execution_count": 182,
          "data": {
            "text/plain": "True"
          },
          "metadata": {}
        }
      ]
    }
  ],
  "metadata": {
    "kernelspec": {
      "name": "python3",
      "display_name": "Python 3",
      "language": "python"
    },
    "language_info": {
      "mimetype": "text/x-python",
      "nbconvert_exporter": "python",
      "name": "python",
      "file_extension": ".py",
      "version": "3.5.4",
      "pygments_lexer": "ipython3",
      "codemirror_mode": {
        "version": 3,
        "name": "ipython"
      }
    }
  },
  "nbformat": 4,
  "nbformat_minor": 1
}