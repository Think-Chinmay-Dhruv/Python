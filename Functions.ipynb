{
  "cells": [
    {
      "metadata": {
        "trusted": true
      },
      "cell_type": "code",
      "source": "number = input(\"Give a number:\")\nint_num = int(number)\ndenom = input(\"Give the number that you want to divide by\")\nint_denom = int(denom)\ndef calculator(input_calc):\n    return input_calc/int_denom\n    \nprint(int_num,\"/\",int_denom,\"is\",calculator(int_num))",
      "execution_count": 9,
      "outputs": [
        {
          "output_type": "stream",
          "name": "stdout",
          "text": "Give a number:9985\nGive the number that you want to divide by224\n9985 / 224 is 44.575892857142854\n"
        }
      ]
    }
  ],
  "metadata": {
    "kernelspec": {
      "name": "python3",
      "display_name": "Python 3",
      "language": "python"
    }
  },
  "nbformat": 4,
  "nbformat_minor": 1
}